{
 "cells": [
  {
   "cell_type": "code",
   "execution_count": 39,
   "metadata": {
    "collapsed": true
   },
   "outputs": [],
   "source": [
    "import pandas as pd\n",
    "\n",
    "from sklearn.model_selection import train_test_split\n",
    "\n",
    "from tensorflow.python.keras.utils import to_categorical\n",
    "from tensorflow.python.keras.losses import categorical_crossentropy\n",
    "from tensorflow.python.keras.models import Sequential\n",
    "from tensorflow.python.keras.layers import Dense, Flatten, Conv2D, MaxPool2D, Dropout\n",
    "from tensorflow.python.keras.preprocessing.image import ImageDataGenerator\n",
    "\n",
    "import matplotlib.pyplot as plt\n",
    "%matplotlib inline"
   ]
  },
  {
   "cell_type": "code",
   "execution_count": 2,
   "metadata": {},
   "outputs": [
    {
     "name": "stdout",
     "output_type": "stream",
     "text": [
      "Loading data...\n",
      "Shape of data file: (42000, 785)\n",
      "Shape of network input: (42000, 28, 28, 1)\n",
      "Shape of label vectors: (42000, 10)\n",
      "First label vector: [ 0.  1.  0.  0.  0.  0.  0.  0.  0.  0.]\n"
     ]
    }
   ],
   "source": [
    "img_rows = 28\n",
    "img_cols = 28\n",
    "num_classes = 10\n",
    "\n",
    "print('Loading data...')\n",
    "df = pd.read_csv('train.csv')\n",
    "print('Shape of data file:',df.shape)\n",
    "\n",
    "# get data excluding label column\n",
    "X = df.drop('label',axis=1)\n",
    "\n",
    "# reconstruct images from flattened rows\n",
    "X = X.values.reshape(len(X),img_rows,img_cols,1)\n",
    "\n",
    "# normalise X to lie between 0 and 1\n",
    "X = X/255.0\n",
    "print('Shape of network input:',X.shape)\n",
    "\n",
    "# extract true label of each image\n",
    "labels = df['label'].values\n",
    "\n",
    "# convert labels in to dummy vectors\n",
    "y = to_categorical(labels, num_classes)\n",
    "print('Shape of label vectors:',y.shape)\n",
    "print('First label vector:',y[0])"
   ]
  },
  {
   "cell_type": "code",
   "execution_count": 3,
   "metadata": {},
   "outputs": [
    {
     "name": "stdout",
     "output_type": "stream",
     "text": [
      "Train shape: X = (33600, 28, 28, 1) , y = (33600, 10)\n",
      "Test shape: X = (8400, 28, 28, 1) , y = (8400, 10)\n"
     ]
    }
   ],
   "source": [
    "X_train, X_test, y_train, y_test = train_test_split(X, y, test_size = 0.2)\n",
    "print('Train shape: X =',X_train.shape,', y =',y_train.shape)\n",
    "print('Test shape: X =',X_test.shape,', y =',y_test.shape)\n",
    "\n",
    "data_generator = ImageDataGenerator(        \n",
    "                    rotation_range=10,\n",
    "                    zoom_range = 0.1,\n",
    "                    width_shift_range=0.1, \n",
    "                    height_shift_range=0.1,\n",
    "                ) \n",
    "\n",
    "batch_size = 100\n",
    "flow_train = data_generator.flow(X_train,y_train,batch_size=batch_size)\n",
    "flow_test = data_generator.flow(X_test,y_test,batch_size=batch_size)"
   ]
  },
  {
   "cell_type": "code",
   "execution_count": 4,
   "metadata": {},
   "outputs": [],
   "source": [
    "layers = [\n",
    "          Conv2D(32, kernel_size=(5, 5), \n",
    "                          activation='relu',name='Conv1',\n",
    "                          input_shape=(img_rows, img_cols, 1)),\n",
    "          Dropout(rate=0.1),\n",
    "          Conv2D(32, kernel_size=(5, 5), \n",
    "                          activation='relu',name='Conv2'),\n",
    "          Dropout(rate=0.1),\n",
    "          Conv2D(64, kernel_size=(3, 3), \n",
    "                          activation='relu',name='Conv3'),  \n",
    "          Dropout(rate=0.2),\n",
    "          Conv2D(64, kernel_size=(3, 3), \n",
    "                          activation='relu',name='Conv4'),\n",
    "          Dropout(rate=0.2),\n",
    "          MaxPool2D(pool_size=(2, 2), strides=2,\n",
    "                          name='Pool1'),\n",
    "          Flatten(name='Flatten'),\n",
    "          Dense(256, activation='relu',name='Dense1'), \n",
    "          Dropout(rate=0.5),\n",
    "          Dense(64, activation='relu',name='Dense2'),   \n",
    "          Dropout(rate=0.5),\n",
    "          Dense(num_classes, activation='softmax',\n",
    "                          name='Output')\n",
    "        ]\n",
    "\n",
    "n_layers = len(layers)\n",
    "\n",
    "# Buld model\n",
    "model = Sequential()\n",
    "\n",
    "# add each defined layer to the model\n",
    "for layer in layers:\n",
    "    model.add(layer)\n",
    "\n",
    "# get layer names\n",
    "layer_names = [model.layers[i].name for i in range(n_layers)]"
   ]
  },
  {
   "cell_type": "code",
   "execution_count": 5,
   "metadata": {},
   "outputs": [
    {
     "name": "stdout",
     "output_type": "stream",
     "text": [
      "Epoch 1/30\n",
      "336/336 [==============================] - 422s 1s/step - loss: 0.5252 - acc: 0.8323 - val_loss: 0.1572 - val_acc: 0.9560\n",
      "Epoch 2/30\n",
      "336/336 [==============================] - 399s 1s/step - loss: 0.1669 - acc: 0.9495 - val_loss: 0.1103 - val_acc: 0.9654\n",
      "Epoch 3/30\n",
      "336/336 [==============================] - 399s 1s/step - loss: 0.1246 - acc: 0.9619 - val_loss: 0.0868 - val_acc: 0.9751\n",
      "Epoch 4/30\n",
      "336/336 [==============================] - 403s 1s/step - loss: 0.0989 - acc: 0.9702 - val_loss: 0.0671 - val_acc: 0.9810\n",
      "Epoch 5/30\n",
      "336/336 [==============================] - 404s 1s/step - loss: 0.0864 - acc: 0.9749 - val_loss: 0.0712 - val_acc: 0.9789\n",
      "Epoch 6/30\n",
      "336/336 [==============================] - 397s 1s/step - loss: 0.0821 - acc: 0.9754 - val_loss: 0.0554 - val_acc: 0.9838\n",
      "Epoch 7/30\n",
      "336/336 [==============================] - 385s 1s/step - loss: 0.0721 - acc: 0.9783 - val_loss: 0.0672 - val_acc: 0.9808\n",
      "Epoch 8/30\n",
      "336/336 [==============================] - 410s 1s/step - loss: 0.0677 - acc: 0.9799 - val_loss: 0.0518 - val_acc: 0.9848\n",
      "Epoch 9/30\n",
      "336/336 [==============================] - 459s 1s/step - loss: 0.0640 - acc: 0.9808 - val_loss: 0.0435 - val_acc: 0.9867\n",
      "Epoch 10/30\n",
      "336/336 [==============================] - 483s 1s/step - loss: 0.0597 - acc: 0.9817 - val_loss: 0.0530 - val_acc: 0.9852\n",
      "Epoch 11/30\n",
      "336/336 [==============================] - 487s 1s/step - loss: 0.0551 - acc: 0.9840 - val_loss: 0.0519 - val_acc: 0.9862\n",
      "Epoch 12/30\n",
      "336/336 [==============================] - 480s 1s/step - loss: 0.0519 - acc: 0.9837 - val_loss: 0.0429 - val_acc: 0.9874\n",
      "Epoch 13/30\n",
      "336/336 [==============================] - 504s 1s/step - loss: 0.0489 - acc: 0.9861 - val_loss: 0.0400 - val_acc: 0.9882\n",
      "Epoch 14/30\n",
      "336/336 [==============================] - 536s 2s/step - loss: 0.0528 - acc: 0.9842 - val_loss: 0.0395 - val_acc: 0.9890\n",
      "Epoch 15/30\n",
      "336/336 [==============================] - 456s 1s/step - loss: 0.0491 - acc: 0.9853 - val_loss: 0.0458 - val_acc: 0.9865\n",
      "Epoch 16/30\n",
      "336/336 [==============================] - 455s 1s/step - loss: 0.0464 - acc: 0.9861 - val_loss: 0.0357 - val_acc: 0.9900\n",
      "Epoch 17/30\n",
      "336/336 [==============================] - 406s 1s/step - loss: 0.0489 - acc: 0.9852 - val_loss: 0.0427 - val_acc: 0.9873\n",
      "Epoch 18/30\n",
      "336/336 [==============================] - 472s 1s/step - loss: 0.0470 - acc: 0.9855 - val_loss: 0.0402 - val_acc: 0.9889\n",
      "Epoch 19/30\n",
      "336/336 [==============================] - 418s 1s/step - loss: 0.0426 - acc: 0.9873 - val_loss: 0.0373 - val_acc: 0.9894\n",
      "Epoch 20/30\n",
      "336/336 [==============================] - 405s 1s/step - loss: 0.0384 - acc: 0.9887 - val_loss: 0.0400 - val_acc: 0.9860\n",
      "Epoch 21/30\n",
      "336/336 [==============================] - 385s 1s/step - loss: 0.0406 - acc: 0.9886 - val_loss: 0.0335 - val_acc: 0.9899\n",
      "Epoch 22/30\n",
      "336/336 [==============================] - 419s 1s/step - loss: 0.0385 - acc: 0.9887 - val_loss: 0.0362 - val_acc: 0.9885\n",
      "Epoch 23/30\n",
      "336/336 [==============================] - 485s 1s/step - loss: 0.0384 - acc: 0.9883 - val_loss: 0.0343 - val_acc: 0.9888\n",
      "Epoch 24/30\n",
      "336/336 [==============================] - 438s 1s/step - loss: 0.0375 - acc: 0.9886 - val_loss: 0.0361 - val_acc: 0.9888\n",
      "Epoch 25/30\n",
      "336/336 [==============================] - 422s 1s/step - loss: 0.0389 - acc: 0.9878 - val_loss: 0.0320 - val_acc: 0.9899\n",
      "Epoch 26/30\n",
      "336/336 [==============================] - 428s 1s/step - loss: 0.0363 - acc: 0.9885 - val_loss: 0.0290 - val_acc: 0.9920\n",
      "Epoch 27/30\n",
      "336/336 [==============================] - 447s 1s/step - loss: 0.0338 - acc: 0.9895 - val_loss: 0.0332 - val_acc: 0.9902\n",
      "Epoch 28/30\n",
      "336/336 [==============================] - 445s 1s/step - loss: 0.0356 - acc: 0.9895 - val_loss: 0.0340 - val_acc: 0.9904\n",
      "Epoch 29/30\n",
      "336/336 [==============================] - 405s 1s/step - loss: 0.0330 - acc: 0.9896 - val_loss: 0.0355 - val_acc: 0.9905\n",
      "Epoch 30/30\n",
      "336/336 [==============================] - 401s 1s/step - loss: 0.0373 - acc: 0.9885 - val_loss: 0.0305 - val_acc: 0.9919\n"
     ]
    }
   ],
   "source": [
    "# set model optimisation parameters\n",
    "model.compile(loss=categorical_crossentropy,\n",
    "                   optimizer='adam',\n",
    "                   metrics=['accuracy'])\n",
    "\n",
    "# Fit model\n",
    "history = model.fit_generator(\n",
    "              flow_train,\n",
    "              epochs=30,\n",
    "              validation_data = flow_test)"
   ]
  },
  {
   "cell_type": "code",
   "execution_count": 24,
   "metadata": {},
   "outputs": [
    {
     "data": {
      "text/plain": [
       "Text(0.5,0,'Epoch')"
      ]
     },
     "execution_count": 24,
     "metadata": {},
     "output_type": "execute_result"
    },
    {
     "data": {
      "image/png": "[encoded data removed]",
      "text/plain": [
       "<matplotlib.figure.Figure at 0x2630bf45668>"
      ]
     },
     "metadata": {},
     "output_type": "display_data"
    }
   ],
   "source": [
    "plt.figure(figsize=(16,4))\n",
    "plt.subplot(1,2,1)\n",
    "plt.plot(history.history['loss'],label=\"Train\")\n",
    "plt.plot(history.history['val_loss'], label=\"Test\")\n",
    "plt.legend()\n",
    "plt.title('Loss')\n",
    "plt.xlabel('Epoch')\n",
    "\n",
    "plt.subplot(1,2,2)\n",
    "plt.plot(history.history['acc'], label=\"Train\")\n",
    "plt.plot(history.history['val_acc'],label=\"Test\")\n",
    "plt.legend()\n",
    "plt.title('Accuracy')\n",
    "plt.xlabel('Epoch')"
   ]
  },
  {
   "cell_type": "code",
   "execution_count": 26,
   "metadata": {},
   "outputs": [
    {
     "name": "stdout",
     "output_type": "stream",
     "text": [
      "Loading data...\n",
      "Shape of test.csv: (28000, 784)\n",
      "Shape of images: (28000, 28, 28, 1)\n"
     ]
    }
   ],
   "source": [
    "print('Loading data...')\n",
    "df = pd.read_csv('test.csv')\n",
    "print('Shape of test.csv:',df.shape)\n",
    "\n",
    "# reconstruct images from flattened rows\n",
    "X_pred = df.values.reshape(len(df),img_rows,img_cols,1)\n",
    "\n",
    "# normalise X to lie between 0 and 1\n",
    "X_pred = X_pred/255.0\n",
    "\n",
    "print('Shape of images:',X_pred.shape)"
   ]
  },
  {
   "cell_type": "code",
   "execution_count": 34,
   "metadata": {},
   "outputs": [
    {
     "name": "stdout",
     "output_type": "stream",
     "text": [
      "Making predictions...\n",
      "Shape of prediction: (28000,)\n"
     ]
    },
    {
     "ename": "NameError",
     "evalue": "name 'np' is not defined",
     "output_type": "error",
     "traceback": [
      "\u001b[1;31m---------------------------------------------------------------------------\u001b[0m",
      "\u001b[1;31mNameError\u001b[0m                                 Traceback (most recent call last)",
      "\u001b[1;32m<ipython-input-34-fb8d77b23cb6>\u001b[0m in \u001b[0;36m<module>\u001b[1;34m()\u001b[0m\n\u001b[0;32m      2\u001b[0m \u001b[0my_pred\u001b[0m \u001b[1;33m=\u001b[0m \u001b[0mmodel\u001b[0m\u001b[1;33m.\u001b[0m\u001b[0mpredict_classes\u001b[0m\u001b[1;33m(\u001b[0m\u001b[0mX_pred\u001b[0m\u001b[1;33m)\u001b[0m\u001b[1;33m\u001b[0m\u001b[0m\n\u001b[0;32m      3\u001b[0m \u001b[0mprint\u001b[0m\u001b[1;33m(\u001b[0m\u001b[1;34m'Shape of prediction:'\u001b[0m\u001b[1;33m,\u001b[0m\u001b[0my_pred\u001b[0m\u001b[1;33m.\u001b[0m\u001b[0mshape\u001b[0m\u001b[1;33m)\u001b[0m\u001b[1;33m\u001b[0m\u001b[0m\n\u001b[1;32m----> 4\u001b[1;33m \u001b[0my_pred\u001b[0m \u001b[1;33m=\u001b[0m \u001b[0mnp\u001b[0m\u001b[1;33m.\u001b[0m\u001b[0margmax\u001b[0m\u001b[1;33m(\u001b[0m\u001b[0my_pred\u001b[0m\u001b[1;33m,\u001b[0m\u001b[0maxis\u001b[0m \u001b[1;33m=\u001b[0m \u001b[1;36m1\u001b[0m\u001b[1;33m)\u001b[0m\u001b[1;33m\u001b[0m\u001b[0m\n\u001b[0m\u001b[0;32m      5\u001b[0m \u001b[0mplt\u001b[0m\u001b[1;33m.\u001b[0m\u001b[0mhist\u001b[0m\u001b[1;33m(\u001b[0m\u001b[0my_pred\u001b[0m\u001b[1;33m)\u001b[0m\u001b[1;33m\u001b[0m\u001b[0m\n",
      "\u001b[1;31mNameError\u001b[0m: name 'np' is not defined"
     ]
    }
   ],
   "source": [
    "print('Making predictions...')\n",
    "y_pred = model.predict_classes(X_pred)\n",
    "print('Shape of prediction:',y_pred.shape)\n",
    "plt.hist(y_pred)"
   ]
  },
  {
   "cell_type": "code",
   "execution_count": 58,
   "metadata": {},
   "outputs": [
    {
     "data": {
      "text/html": [
       "<div>\n",
       "<style>\n",
       "    .dataframe thead tr:only-child th {\n",
       "        text-align: right;\n",
       "    }\n",
       "\n",
       "    .dataframe thead th {\n",
       "        text-align: left;\n",
       "    }\n",
       "\n",
       "    .dataframe tbody tr th {\n",
       "        vertical-align: top;\n",
       "    }\n",
       "</style>\n",
       "<table border=\"1\" class=\"dataframe\">\n",
       "  <thead>\n",
       "    <tr style=\"text-align: right;\">\n",
       "      <th></th>\n",
       "      <th>Label</th>\n",
       "    </tr>\n",
       "    <tr>\n",
       "      <th>ImageId</th>\n",
       "      <th></th>\n",
       "    </tr>\n",
       "  </thead>\n",
       "  <tbody>\n",
       "    <tr>\n",
       "      <th>1</th>\n",
       "      <td>2</td>\n",
       "    </tr>\n",
       "    <tr>\n",
       "      <th>2</th>\n",
       "      <td>0</td>\n",
       "    </tr>\n",
       "    <tr>\n",
       "      <th>3</th>\n",
       "      <td>9</td>\n",
       "    </tr>\n",
       "    <tr>\n",
       "      <th>4</th>\n",
       "      <td>0</td>\n",
       "    </tr>\n",
       "    <tr>\n",
       "      <th>5</th>\n",
       "      <td>3</td>\n",
       "    </tr>\n",
       "  </tbody>\n",
       "</table>\n",
       "</div>"
      ],
      "text/plain": [
       "         Label\n",
       "ImageId       \n",
       "1            2\n",
       "2            0\n",
       "3            9\n",
       "4            0\n",
       "5            3"
      ]
     },
     "execution_count": 58,
     "metadata": {},
     "output_type": "execute_result"
    }
   ],
   "source": [
    "df_pred = pd.DataFrame(y_pred,index=np.arange(1,len(y_pred)+1),columns=['Label'])\n",
    "df_pred.index.name = 'ImageId'\n",
    "df_pred.to_csv('submission.csv')\n",
    "\n",
    "df_pred.head()"
   ]
  }
 ],
 "metadata": {
  "kernelspec": {
   "display_name": "Python 3",
   "language": "python",
   "name": "python3"
  },
  "language_info": {
   "codemirror_mode": {
    "name": "ipython",
    "version": 3
   },
   "file_extension": ".py",
   "mimetype": "text/x-python",
   "name": "python",
   "nbconvert_exporter": "python",
   "pygments_lexer": "ipython3",
   "version": "3.6.3"
  }
 },
 "nbformat": 4,
 "nbformat_minor": 2
}
